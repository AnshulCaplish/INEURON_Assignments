{
 "cells": [
  {
   "cell_type": "markdown",
   "metadata": {},
   "source": [
    "### Question 1 Write a Python Program(with class concepts) to find the area of the triangle using the below formula.  \n",
    "area = (s*(s-a)*(s-b)*(s-c)) ** 0.5  \n",
    "Function to take the length of the sides of triangle from user should be defined in the parent class and function to calculate the area should be defined in subclass"
   ]
  },
  {
   "cell_type": "code",
   "execution_count": 6,
   "metadata": {},
   "outputs": [],
   "source": [
    "class Triangle:\n",
    "    def __init__(self, a,b,c):\n",
    "        self.a = a\n",
    "        self.b = b\n",
    "        self.c = c\n",
    "        \n",
    "    "
   ]
  },
  {
   "cell_type": "code",
   "execution_count": 7,
   "metadata": {},
   "outputs": [],
   "source": [
    "class Area(Triangle):\n",
    "    def __init__(self):\n",
    "        Triangle.__init__(self,2,3,4)\n",
    "\n",
    "    def findArea(self):\n",
    "        a = self.a\n",
    "        b = self.b\n",
    "        c = self.c\n",
    "        # calculate the semi-perimeter\n",
    "        s = (a + b + c) / 2\n",
    "        area = (s*(s-a)*(s-b)*(s-c)) ** 0.5\n",
    "        print('The area of the triangle is %0.2f' %area)"
   ]
  },
  {
   "cell_type": "code",
   "execution_count": 8,
   "metadata": {},
   "outputs": [
    {
     "name": "stdout",
     "output_type": "stream",
     "text": [
      "The area of the triangle is 2.90\n"
     ]
    }
   ],
   "source": [
    "ar=Area()\n",
    "ar.findArea()"
   ]
  },
  {
   "cell_type": "markdown",
   "metadata": {},
   "source": [
    "#### Question:  2.2 Write a Python function which takes a character (i.e. a string of length 1) and returns True if it is a vowel, False otherwise. "
   ]
  },
  {
   "cell_type": "code",
   "execution_count": 18,
   "metadata": {},
   "outputs": [
    {
     "name": "stdout",
     "output_type": "stream",
     "text": [
      "Enter only single character: qw\n",
      "Error  Enter only single character\n"
     ]
    }
   ],
   "source": [
    "lst=['a','e','i','o','u']\n",
    "def Take_char(x):\n",
    "    if (len(x)==1):\n",
    "        if (x in lst):\n",
    "            return True\n",
    "        return False\n",
    "    else:\n",
    "        print(\"Error  Enter only single character\")\n",
    "Take_char(input(\"Enter only single character: \"))    "
   ]
  },
  {
   "cell_type": "markdown",
   "metadata": {},
   "source": [
    "####  Question : 2.1 Write a Python program using function concept that maps list of words into a list of integers representing the lengths of the corresponding words.  \n",
    "Hint: If a list [ ab,cde,erty] is passed on to the python function output should come as [2,3,4]  \n",
    "Here 2,3 and 4 are the lengths of the words in the list"
   ]
  },
  {
   "cell_type": "code",
   "execution_count": 30,
   "metadata": {},
   "outputs": [
    {
     "name": "stdout",
     "output_type": "stream",
     "text": [
      "[2, 3, 4]\n"
     ]
    }
   ],
   "source": [
    "lst=[]\n",
    "def length_of_words(x):\n",
    "    for i in x:\n",
    "        count=len(i)\n",
    "        lst.append(count)\n",
    "    print(lst)  \n",
    "        \n",
    "length_of_words(['ab','cde','erty'])        "
   ]
  },
  {
   "cell_type": "markdown",
   "metadata": {},
   "source": [
    "#### Question : 1.2 Write a function filter_long_words() that takes a list of words and an integer n and returns the list of words that are longer than n"
   ]
  },
  {
   "cell_type": "code",
   "execution_count": 32,
   "metadata": {},
   "outputs": [
    {
     "name": "stdout",
     "output_type": "stream",
     "text": [
      "['anshul', 'caplish']\n"
     ]
    }
   ],
   "source": [
    "lst=[]\n",
    "def filter_long_words(x,n):\n",
    "    for i in x:\n",
    "        if (len(i)>n):\n",
    "            lst.append(i)\n",
    "    print(lst)\n",
    "        \n",
    "filter_long_words(['qwe','asdf','anshul','caplish','as','no'],5)\n",
    "    \n",
    "    "
   ]
  },
  {
   "cell_type": "code",
   "execution_count": null,
   "metadata": {},
   "outputs": [],
   "source": []
  }
 ],
 "metadata": {
  "kernelspec": {
   "display_name": "Python 3",
   "language": "python",
   "name": "python3"
  },
  "language_info": {
   "codemirror_mode": {
    "name": "ipython",
    "version": 3
   },
   "file_extension": ".py",
   "mimetype": "text/x-python",
   "name": "python",
   "nbconvert_exporter": "python",
   "pygments_lexer": "ipython3",
   "version": "3.7.3"
  }
 },
 "nbformat": 4,
 "nbformat_minor": 2
}
